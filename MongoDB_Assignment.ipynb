{
  "nbformat": 4,
  "nbformat_minor": 0,
  "metadata": {
    "colab": {
      "provenance": []
    },
    "kernelspec": {
      "name": "python3",
      "display_name": "Python 3"
    },
    "language_info": {
      "name": "python"
    }
  },
  "cells": [
    {
      "cell_type": "markdown",
      "source": [
        "Q.1. What are the key difference between SQL and NoSQL datasets?\n",
        "   - The important differences between SQL and NoSQL are SQL is rational and NoSQL is on rational.\n",
        "   SQL databases use structural query language and have predefined schema. NoSQL databases have dynamic schemas for unstructured data.\n",
        "\n",
        "Q.2. What makes MongoDB a good choice fo modern applicatons?\n",
        "     - MongoDB is a strong choice because it has flexible schema and document model, it has scalability and high availability and it's developer friendly experience.\n",
        "\n",
        "Q.3. Explain the concept of collections in MongoDB?\n",
        "      - In MongoDB a collections is a grouping of MongoDB document. It is analogous to a table in a rational database system,but with a key difference : collection in MongoDB are schema less bby default. This means that documents within the same collection can have different structure and contain different fields, offering greater flexibility in data modeling.\n",
        "\n",
        "Q.4. How does MongoDB ensure high availability using replication?\n",
        "    - MongoDB ensures high availability primarily through replica sets,which maintains redundant copies of data across multiple servers. This redunndency allows the system to automatically failover to a secondary replica if the primary server ffails, ensuring continous operation.\n",
        "\n",
        "Q.5. What are the main benefits of MongoDB atlas?\n",
        "      - MongoDB Atlas offers several benefits, primarily focused on simplifying database management, enhancing scalability and performance and improving security.\n",
        "\n",
        "Q.6. What is the role of indexes in MongoDB and how do they improve performance?\n",
        "     -In MongoDB, indexes play a crucial role in enhancing query performance by providing a faster way to locate and retrieve documents.\n",
        "\n",
        "Q.7. Describe the stages of the MongoDB aggragation pipeline?\n",
        "    - Th MongoDB aggregation pipeline processes documents through a series of stages, where each stage performs a specific operation on the input documents and passes the resulting documents to the next stage.\n",
        "\n",
        "Q.8. What is sharing in MongDB? how does it differ from replication?\n",
        "      - Sharing involves making data,resources,or information accessible to others, often with the goal of collaboration or dissemination.\n",
        "      Repliction is the process of creating identical copies of data or systems for redundency,backup,or performance optimization.\n",
        "\n",
        "Q.9. What is pymongo, and why is it used?\n",
        "       - PyMongo is the official MongoDB driver for synchronous python application.\n",
        "\n",
        "Q.10. What are the ACID properties in the context of MongoDB transaction?\n",
        "     - The ACID properties, in the context of MongoDB trasaction, refer to the guarantees provided for data integrity and reliability during during a transaction. These properties ensure that a series of operations are treated as a single,atomic unit of work, maintaining data consistency even in the face of system failures.\n",
        "\n",
        "Q.11. What is the purpose of MongoDB's explain() funnction?\n",
        "      - The purpose of the explain() function i MongoDB is to provide detailed informaion about how MongoDB executes a query or operation.\n",
        "\n",
        "Q.12. How does MongoDB handle schema validation?\n",
        "       - MongoDB offers schema validation to enforce data structure and types  within collection, although it maintains is flexible schema nature by allowing this vaidation to be optional.\n",
        "\n",
        "Q.13. What is the difference between a primary and a secondary node in a replica?\n",
        "       - In a replica set, the primary node is responsible for handling all write operations, while secondary nodes replicate data from the primary and can handle read operations.\n",
        "\n",
        "Q.14. What security mechanism does MongoDB provide for data protection?\n",
        "       - MogoDB offers a robust set of security features for protecting data, including encryption both in transit and at rest as well as robust authentication and authorization mechanism.\n",
        "\n",
        "Q.15. Explain the concept of embededdocument and when they should be used?\n",
        "      - Embedded document also known as nested documents are documents stored within other documents in NoSQL datasets like MongoDB. They are used to represnt related data that is frequently accessed together,making data retrieval more efficient. This approach is beneficial when dealing with one-to-one or one-to-few relationships where the embedded data is relatively small and static.\n",
        "\n",
        "Q.16. What is the purpose of MonngoDB $lookup stage in aggregation?\n",
        "    - The purpose of the $lookup stage in the MongoDB aggregation framework is to perform a left outer join betwee two collections within the same database.\n",
        "\n",
        "Q.17. What are some commo usecase for mongodb?\n",
        "     - Some common usecase of MongoDB are content mmanagement systems, e-commerce platforms,real time analytics,lo T applications,social media platforms,and mobile application.\n",
        "\n",
        "Q.18. What are the advantages of using MongoDB for horizontal scalling?\n",
        "    - MongoDB offers significant advantages for horizontal scaling. These advantages are- it handles large data volume, improved performane, ehanced high availablity and fault tolerance.\n",
        "\n",
        "Q.19. How do MongoDB transaction differ from SQL transaction?\n",
        "    - The main difference between MongoDB and SQL server is that MongoDB is a NoSQL database designed for flexible document oriented data storage, while SQL Server is a rational database optimized for structure data management and enterprize level transactional processing.\n",
        "\n",
        "Q.20. What are the main difference between capped collection and regular collecion?\n",
        "   - Capped collections are fixed-size,circular buffers that automatically overwrite the oldest documents when full, while regular collections can grow indefinitely and require manual deletion of documents.\n",
        "\n",
        "Q.21. What is the purpose of the $match stage in MongoDB's aggregation pipeline?\n",
        "    - The purpose of the  $match stage in a MongoDB aggregation pipeline is to filter document based on specified conditions. It functions simmilarity to a find() operation, allowing you to select only the documents that meet the critaria you define.\n",
        "\n",
        "Q.22. How can you secure access to a MongoDB database?\n",
        "     - Strong encryption is a basic best prractice  for database security. Encrypt all databae connections using the Transport Layer Security protocol,protecting data intransit.\n",
        "\n",
        "Q.23. What is MongoDB WiredTiger storage engine, and why is it important?\n",
        "   - It is crucial because it provides document-level concurrency,compression,and efficient CPU scalling, enabling better prformance especially for read-intensive and write heavy workloads."
      ],
      "metadata": {
        "id": "9GY4lTOg4Tmy"
      }
    },
    {
      "cell_type": "markdown",
      "source": [
        "Practical question:"
      ],
      "metadata": {
        "id": "zR2-l8VX__IS"
      }
    },
    {
      "cell_type": "code",
      "source": [
        "#1. Write a python script to load the superstore dataset from a csv file ito MongoDB.\n",
        "import csv\n",
        "from pymongo import MongoClient\n",
        "\n",
        "MONGO_URI = \"mongodb: // localhost : 27017/\"\n",
        "DATABASE_NAME = \"superstar_db\"\n",
        "COLLECTION_NAME = \"superstar\"\n",
        "\n",
        "CSV_FILE_PATH = \"superstars.csv\"\n",
        "\n",
        "def load_csv_to_mongodb(mongo_uri , db_name, collectio_name, csv_file_path):\n",
        "  try:\n",
        "    client = MongoClient(mongo_uri)\n",
        "    db = client[db_name]\n",
        "    collection = db[collection_name]\n",
        "\n",
        "    with open(csv_file_path, mode='r', encoding = 'utf-8') as file:\n",
        "      reader = csv.DictReader(file)\n",
        "      data_to_insert = []\n",
        "      for row in reader:\n",
        "        data_to_insert.append(row)\n",
        "\n",
        "      if data_to_insert:\n",
        "        collection.innsert_many(data_to_insert)\n",
        "        print(f\"Successfully innserted {len(data_to_insert)} document into '{collection_name}' collection.\")\n",
        "      else:\n",
        "        print(\"no data found in the CSV file to insert.\")\n",
        "\n",
        "\n",
        "  except FileNotFoundError:\n",
        "    print(f\"Error: CSV file not found at '{csv_file_path}' \")\n",
        "  except Exception as e:\n",
        "    print (f\"An error occurred: {e}\")\n",
        "  finally:\n",
        "    if 'client' in locals() and client:\n",
        "      client.close()\n",
        "\n",
        "if _name_ == \"main\":\n",
        "  load_csv_to_mongodb(MONGO_URI, DATABASE_NAME, COLLECTION_NAME,CSV_FILE_PATH)\n",
        "\n",
        "\n",
        "\n",
        "\n"
      ],
      "metadata": {
        "colab": {
          "base_uri": "https://localhost:8080/",
          "height": 383
        },
        "id": "R2vY3rILmAhi",
        "outputId": "6288c3c0-6789-455b-8ee1-b6f0933d3638"
      },
      "execution_count": null,
      "outputs": [
        {
          "output_type": "error",
          "ename": "ModuleNotFoundError",
          "evalue": "No module named 'pymongo'",
          "traceback": [
            "\u001b[0;31m---------------------------------------------------------------------------\u001b[0m",
            "\u001b[0;31mModuleNotFoundError\u001b[0m                       Traceback (most recent call last)",
            "\u001b[0;32m/tmp/ipython-input-2665423378.py\u001b[0m in \u001b[0;36m<cell line: 0>\u001b[0;34m()\u001b[0m\n\u001b[1;32m      1\u001b[0m \u001b[0;31m#1. Write a python script to load the superstore dataset from a csv file ito MongoDB.\u001b[0m\u001b[0;34m\u001b[0m\u001b[0;34m\u001b[0m\u001b[0m\n\u001b[1;32m      2\u001b[0m \u001b[0;32mimport\u001b[0m \u001b[0mcsv\u001b[0m\u001b[0;34m\u001b[0m\u001b[0;34m\u001b[0m\u001b[0m\n\u001b[0;32m----> 3\u001b[0;31m \u001b[0;32mfrom\u001b[0m \u001b[0mpymongo\u001b[0m \u001b[0;32mimport\u001b[0m \u001b[0mMongoClient\u001b[0m\u001b[0;34m\u001b[0m\u001b[0;34m\u001b[0m\u001b[0m\n\u001b[0m\u001b[1;32m      4\u001b[0m \u001b[0;34m\u001b[0m\u001b[0m\n\u001b[1;32m      5\u001b[0m \u001b[0mMONGO_URI\u001b[0m \u001b[0;34m=\u001b[0m \u001b[0;34m\"mongodb: // localhost : 27017/\"\u001b[0m\u001b[0;34m\u001b[0m\u001b[0;34m\u001b[0m\u001b[0m\n",
            "\u001b[0;31mModuleNotFoundError\u001b[0m: No module named 'pymongo'",
            "",
            "\u001b[0;31m---------------------------------------------------------------------------\u001b[0;32m\nNOTE: If your import is failing due to a missing package, you can\nmanually install dependencies using either !pip or !apt.\n\nTo view examples of installing some common dependencies, click the\n\"Open Examples\" button below.\n\u001b[0;31m---------------------------------------------------------------------------\u001b[0m\n"
          ],
          "errorDetails": {
            "actions": [
              {
                "action": "open_url",
                "actionText": "Open Examples",
                "url": "/notebooks/snippets/importing_libraries.ipynb"
              }
            ]
          }
        }
      ]
    },
    {
      "cell_type": "code",
      "source": [
        "#2. Retrive and print all documents from the order collection.\n",
        "\n",
        "import pymongo\n",
        "\n",
        "client = pymongo.MongoClient(\"mongodb://localhost:27017/\")\n",
        "\n",
        "db = client[\"mydatabase\"]\n",
        "collection = db[\"mycollection\"]\n",
        "\n",
        "all_documents = collection.find({})\n",
        "\n",
        "print(\"documents in 'mycollection':\")\n",
        "for document in all_documents:\n",
        "  print(document)\n",
        "\n",
        "client.close()"
      ],
      "metadata": {
        "colab": {
          "base_uri": "https://localhost:8080/",
          "height": 383
        },
        "id": "vtyjGbtlskgK",
        "outputId": "5048f625-12d1-4d0f-f6bd-034126fb6844"
      },
      "execution_count": null,
      "outputs": [
        {
          "output_type": "error",
          "ename": "ModuleNotFoundError",
          "evalue": "No module named 'pymongo'",
          "traceback": [
            "\u001b[0;31m---------------------------------------------------------------------------\u001b[0m",
            "\u001b[0;31mModuleNotFoundError\u001b[0m                       Traceback (most recent call last)",
            "\u001b[0;32m/tmp/ipython-input-985350729.py\u001b[0m in \u001b[0;36m<cell line: 0>\u001b[0;34m()\u001b[0m\n\u001b[1;32m      1\u001b[0m \u001b[0;31m#2. Retrive and print all documents from the order collection.\u001b[0m\u001b[0;34m\u001b[0m\u001b[0;34m\u001b[0m\u001b[0m\n\u001b[1;32m      2\u001b[0m \u001b[0;34m\u001b[0m\u001b[0m\n\u001b[0;32m----> 3\u001b[0;31m \u001b[0;32mimport\u001b[0m \u001b[0mpymongo\u001b[0m\u001b[0;34m\u001b[0m\u001b[0;34m\u001b[0m\u001b[0m\n\u001b[0m\u001b[1;32m      4\u001b[0m \u001b[0;34m\u001b[0m\u001b[0m\n\u001b[1;32m      5\u001b[0m \u001b[0mclient\u001b[0m \u001b[0;34m=\u001b[0m \u001b[0mpymongo\u001b[0m\u001b[0;34m.\u001b[0m\u001b[0mMongoClient\u001b[0m\u001b[0;34m(\u001b[0m\u001b[0;34m\"mongodb://localhost:27017/\"\u001b[0m\u001b[0;34m)\u001b[0m\u001b[0;34m\u001b[0m\u001b[0;34m\u001b[0m\u001b[0m\n",
            "\u001b[0;31mModuleNotFoundError\u001b[0m: No module named 'pymongo'",
            "",
            "\u001b[0;31m---------------------------------------------------------------------------\u001b[0;32m\nNOTE: If your import is failing due to a missing package, you can\nmanually install dependencies using either !pip or !apt.\n\nTo view examples of installing some common dependencies, click the\n\"Open Examples\" button below.\n\u001b[0;31m---------------------------------------------------------------------------\u001b[0m\n"
          ],
          "errorDetails": {
            "actions": [
              {
                "action": "open_url",
                "actionText": "Open Examples",
                "url": "/notebooks/snippets/importing_libraries.ipynb"
              }
            ]
          }
        }
      ]
    },
    {
      "cell_type": "code",
      "source": [
        "#3."
      ],
      "metadata": {
        "id": "8Fk2GbQqskNQ"
      },
      "execution_count": null,
      "outputs": []
    }
  ]
}